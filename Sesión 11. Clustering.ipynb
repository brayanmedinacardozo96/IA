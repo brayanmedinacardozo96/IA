{
 "cells": [
  {
   "cell_type": "markdown",
   "id": "2517d788",
   "metadata": {},
   "source": [
    "<img src=\"https://www.unir.net/wp-content/uploads/2019/11/Unir_2021_logo.svg\" width=\"240\" height=\"240\" align=\"right\"/>\n"
   ]
  },
  {
   "cell_type": "markdown",
   "id": "74901825",
   "metadata": {
    "ExecuteTime": {
     "end_time": "2022-02-15T12:54:41.307149Z",
     "start_time": "2022-02-15T12:54:41.295147Z"
    }
   },
   "source": [
    "<center><h1> Sesión 11. Clustering.</header1></centre>"
   ]
  },
  {
   "cell_type": "markdown",
   "id": "1e018355",
   "metadata": {
    "ExecuteTime": {
     "end_time": "2022-02-15T12:55:53.810732Z",
     "start_time": "2022-02-15T12:55:53.789519Z"
    }
   },
   "source": [
    "Miller Janny Ariza Garzón. \\\n",
    "Mayo de 2022"
   ]
  },
  {
   "cell_type": "code",
   "execution_count": 1,
   "id": "c5c07239",
   "metadata": {
    "ExecuteTime": {
     "end_time": "2022-05-31T12:33:46.117546Z",
     "start_time": "2022-05-31T12:33:46.017513Z"
    }
   },
   "outputs": [
    {
     "name": "stdout",
     "output_type": "stream",
     "text": [
      "Skipping, found downloaded files in \".\\customer-segmentation-tutorial-in-python\" (use force=True to force download)\n"
     ]
    }
   ],
   "source": [
    "import opendatasets as od\n",
    "od.download('https://www.kaggle.com/vjchoudhary7/customer-segmentation-tutorial-in-python/')"
   ]
  },
  {
   "cell_type": "markdown",
   "id": "6431ff41",
   "metadata": {},
   "source": [
    "## Descripción problema\n",
    "\n",
    "Tenemos un dataset compuesto por 200 datos de clientes de centros comerciales. El marco de datos incluye el customerID, el género, la edad, los ingresos anuales y una puntuación de gasto de cada cliente. La puntuación de gasto es una puntuación en función de varios criterios, entre los que se incluyen, por ejemplo, el número de veces por semana que acuden al centro comercial y el dinero que han gastado en un año. Esta puntuación oscila entre 1 y 100. Así que nuestro objetivo es encontrar algunos clusters para perfilar los tipos de clientes."
   ]
  },
  {
   "cell_type": "code",
   "execution_count": 176,
   "id": "748c51ae",
   "metadata": {
    "ExecuteTime": {
     "end_time": "2022-05-31T20:51:06.769783Z",
     "start_time": "2022-05-31T20:51:06.746782Z"
    }
   },
   "outputs": [
    {
     "data": {
      "text/html": [
       "<div>\n",
       "<style scoped>\n",
       "    .dataframe tbody tr th:only-of-type {\n",
       "        vertical-align: middle;\n",
       "    }\n",
       "\n",
       "    .dataframe tbody tr th {\n",
       "        vertical-align: top;\n",
       "    }\n",
       "\n",
       "    .dataframe thead th {\n",
       "        text-align: right;\n",
       "    }\n",
       "</style>\n",
       "<table border=\"1\" class=\"dataframe\">\n",
       "  <thead>\n",
       "    <tr style=\"text-align: right;\">\n",
       "      <th></th>\n",
       "      <th>CustomerID</th>\n",
       "      <th>Gender</th>\n",
       "      <th>Age</th>\n",
       "      <th>Annual Income (k$)</th>\n",
       "      <th>Spending Score (1-100)</th>\n",
       "    </tr>\n",
       "  </thead>\n",
       "  <tbody>\n",
       "    <tr>\n",
       "      <th>0</th>\n",
       "      <td>1</td>\n",
       "      <td>Male</td>\n",
       "      <td>19</td>\n",
       "      <td>15</td>\n",
       "      <td>39</td>\n",
       "    </tr>\n",
       "    <tr>\n",
       "      <th>1</th>\n",
       "      <td>2</td>\n",
       "      <td>Male</td>\n",
       "      <td>21</td>\n",
       "      <td>15</td>\n",
       "      <td>81</td>\n",
       "    </tr>\n",
       "    <tr>\n",
       "      <th>2</th>\n",
       "      <td>3</td>\n",
       "      <td>Female</td>\n",
       "      <td>20</td>\n",
       "      <td>16</td>\n",
       "      <td>6</td>\n",
       "    </tr>\n",
       "    <tr>\n",
       "      <th>3</th>\n",
       "      <td>4</td>\n",
       "      <td>Female</td>\n",
       "      <td>23</td>\n",
       "      <td>16</td>\n",
       "      <td>77</td>\n",
       "    </tr>\n",
       "    <tr>\n",
       "      <th>4</th>\n",
       "      <td>5</td>\n",
       "      <td>Female</td>\n",
       "      <td>31</td>\n",
       "      <td>17</td>\n",
       "      <td>40</td>\n",
       "    </tr>\n",
       "  </tbody>\n",
       "</table>\n",
       "</div>"
      ],
      "text/plain": [
       "   CustomerID  Gender  Age  Annual Income (k$)  Spending Score (1-100)\n",
       "0           1    Male   19                  15                      39\n",
       "1           2    Male   21                  15                      81\n",
       "2           3  Female   20                  16                       6\n",
       "3           4  Female   23                  16                      77\n",
       "4           5  Female   31                  17                      40"
      ]
     },
     "execution_count": 176,
     "metadata": {},
     "output_type": "execute_result"
    }
   ],
   "source": [
    "import pandas as pd\n",
    "df_starup = pd.read_csv(r'customer-segmentation-tutorial-in-python/Mall_Customers.csv')\n",
    "df_starup.head()"
   ]
  },
  {
   "cell_type": "markdown",
   "id": "8c235fb4",
   "metadata": {},
   "source": [
    "## Descripción del Dataset"
   ]
  },
  {
   "cell_type": "code",
   "execution_count": 177,
   "id": "f896c6d7",
   "metadata": {
    "ExecuteTime": {
     "end_time": "2022-05-31T20:51:10.649434Z",
     "start_time": "2022-05-31T20:51:10.630427Z"
    }
   },
   "outputs": [
    {
     "name": "stdout",
     "output_type": "stream",
     "text": [
      "<class 'pandas.core.frame.DataFrame'>\n",
      "RangeIndex: 200 entries, 0 to 199\n",
      "Data columns (total 5 columns):\n",
      " #   Column                  Non-Null Count  Dtype \n",
      "---  ------                  --------------  ----- \n",
      " 0   CustomerID              200 non-null    int64 \n",
      " 1   Gender                  200 non-null    object\n",
      " 2   Age                     200 non-null    int64 \n",
      " 3   Annual Income (k$)      200 non-null    int64 \n",
      " 4   Spending Score (1-100)  200 non-null    int64 \n",
      "dtypes: int64(4), object(1)\n",
      "memory usage: 7.9+ KB\n"
     ]
    }
   ],
   "source": [
    "df_starup.info()"
   ]
  },
  {
   "cell_type": "code",
   "execution_count": 178,
   "id": "72e49aa1",
   "metadata": {
    "ExecuteTime": {
     "end_time": "2022-05-31T20:51:14.173393Z",
     "start_time": "2022-05-31T20:51:14.151404Z"
    }
   },
   "outputs": [],
   "source": [
    "df_starup['Gender'] = df_starup['Gender'].astype('category')\n",
    "df_starup = df_starup.set_index('CustomerID')"
   ]
  },
  {
   "cell_type": "code",
   "execution_count": 179,
   "id": "9511dc43",
   "metadata": {
    "ExecuteTime": {
     "end_time": "2022-05-31T20:51:17.036914Z",
     "start_time": "2022-05-31T20:51:17.024914Z"
    }
   },
   "outputs": [
    {
     "name": "stdout",
     "output_type": "stream",
     "text": [
      "<class 'pandas.core.frame.DataFrame'>\n",
      "Int64Index: 200 entries, 1 to 200\n",
      "Data columns (total 4 columns):\n",
      " #   Column                  Non-Null Count  Dtype   \n",
      "---  ------                  --------------  -----   \n",
      " 0   Gender                  200 non-null    category\n",
      " 1   Age                     200 non-null    int64   \n",
      " 2   Annual Income (k$)      200 non-null    int64   \n",
      " 3   Spending Score (1-100)  200 non-null    int64   \n",
      "dtypes: category(1), int64(3)\n",
      "memory usage: 6.6 KB\n"
     ]
    }
   ],
   "source": [
    "df_starup.info()"
   ]
  },
  {
   "cell_type": "code",
   "execution_count": 180,
   "id": "7405760f",
   "metadata": {
    "ExecuteTime": {
     "end_time": "2022-05-31T20:51:19.769103Z",
     "start_time": "2022-05-31T20:51:19.726109Z"
    }
   },
   "outputs": [
    {
     "data": {
      "text/html": [
       "<div>\n",
       "<style scoped>\n",
       "    .dataframe tbody tr th:only-of-type {\n",
       "        vertical-align: middle;\n",
       "    }\n",
       "\n",
       "    .dataframe tbody tr th {\n",
       "        vertical-align: top;\n",
       "    }\n",
       "\n",
       "    .dataframe thead th {\n",
       "        text-align: right;\n",
       "    }\n",
       "</style>\n",
       "<table border=\"1\" class=\"dataframe\">\n",
       "  <thead>\n",
       "    <tr style=\"text-align: right;\">\n",
       "      <th></th>\n",
       "      <th>Age</th>\n",
       "      <th>Annual Income (k$)</th>\n",
       "      <th>Spending Score (1-100)</th>\n",
       "    </tr>\n",
       "  </thead>\n",
       "  <tbody>\n",
       "    <tr>\n",
       "      <th>count</th>\n",
       "      <td>200.000000</td>\n",
       "      <td>200.000000</td>\n",
       "      <td>200.000000</td>\n",
       "    </tr>\n",
       "    <tr>\n",
       "      <th>mean</th>\n",
       "      <td>38.850000</td>\n",
       "      <td>60.560000</td>\n",
       "      <td>50.200000</td>\n",
       "    </tr>\n",
       "    <tr>\n",
       "      <th>std</th>\n",
       "      <td>13.969007</td>\n",
       "      <td>26.264721</td>\n",
       "      <td>25.823522</td>\n",
       "    </tr>\n",
       "    <tr>\n",
       "      <th>min</th>\n",
       "      <td>18.000000</td>\n",
       "      <td>15.000000</td>\n",
       "      <td>1.000000</td>\n",
       "    </tr>\n",
       "    <tr>\n",
       "      <th>25%</th>\n",
       "      <td>28.750000</td>\n",
       "      <td>41.500000</td>\n",
       "      <td>34.750000</td>\n",
       "    </tr>\n",
       "    <tr>\n",
       "      <th>50%</th>\n",
       "      <td>36.000000</td>\n",
       "      <td>61.500000</td>\n",
       "      <td>50.000000</td>\n",
       "    </tr>\n",
       "    <tr>\n",
       "      <th>75%</th>\n",
       "      <td>49.000000</td>\n",
       "      <td>78.000000</td>\n",
       "      <td>73.000000</td>\n",
       "    </tr>\n",
       "    <tr>\n",
       "      <th>max</th>\n",
       "      <td>70.000000</td>\n",
       "      <td>137.000000</td>\n",
       "      <td>99.000000</td>\n",
       "    </tr>\n",
       "  </tbody>\n",
       "</table>\n",
       "</div>"
      ],
      "text/plain": [
       "              Age  Annual Income (k$)  Spending Score (1-100)\n",
       "count  200.000000          200.000000              200.000000\n",
       "mean    38.850000           60.560000               50.200000\n",
       "std     13.969007           26.264721               25.823522\n",
       "min     18.000000           15.000000                1.000000\n",
       "25%     28.750000           41.500000               34.750000\n",
       "50%     36.000000           61.500000               50.000000\n",
       "75%     49.000000           78.000000               73.000000\n",
       "max     70.000000          137.000000               99.000000"
      ]
     },
     "execution_count": 180,
     "metadata": {},
     "output_type": "execute_result"
    }
   ],
   "source": [
    " df_starup.describe()"
   ]
  },
  {
   "cell_type": "markdown",
   "id": "d6813967",
   "metadata": {},
   "source": [
    "# Aplicación de K-Means con dos variables"
   ]
  },
  {
   "cell_type": "code",
   "execution_count": 181,
   "id": "98931f3b",
   "metadata": {
    "ExecuteTime": {
     "end_time": "2022-05-31T20:51:25.984988Z",
     "start_time": "2022-05-31T20:51:25.973990Z"
    }
   },
   "outputs": [
    {
     "data": {
      "text/html": [
       "<div>\n",
       "<style scoped>\n",
       "    .dataframe tbody tr th:only-of-type {\n",
       "        vertical-align: middle;\n",
       "    }\n",
       "\n",
       "    .dataframe tbody tr th {\n",
       "        vertical-align: top;\n",
       "    }\n",
       "\n",
       "    .dataframe thead th {\n",
       "        text-align: right;\n",
       "    }\n",
       "</style>\n",
       "<table border=\"1\" class=\"dataframe\">\n",
       "  <thead>\n",
       "    <tr style=\"text-align: right;\">\n",
       "      <th></th>\n",
       "      <th>Annual Income (k$)</th>\n",
       "      <th>Spending Score (1-100)</th>\n",
       "    </tr>\n",
       "  </thead>\n",
       "  <tbody>\n",
       "    <tr>\n",
       "      <th>0</th>\n",
       "      <td>15</td>\n",
       "      <td>39</td>\n",
       "    </tr>\n",
       "    <tr>\n",
       "      <th>1</th>\n",
       "      <td>15</td>\n",
       "      <td>81</td>\n",
       "    </tr>\n",
       "    <tr>\n",
       "      <th>2</th>\n",
       "      <td>16</td>\n",
       "      <td>6</td>\n",
       "    </tr>\n",
       "    <tr>\n",
       "      <th>3</th>\n",
       "      <td>16</td>\n",
       "      <td>77</td>\n",
       "    </tr>\n",
       "    <tr>\n",
       "      <th>4</th>\n",
       "      <td>17</td>\n",
       "      <td>40</td>\n",
       "    </tr>\n",
       "  </tbody>\n",
       "</table>\n",
       "</div>"
      ],
      "text/plain": [
       "   Annual Income (k$)  Spending Score (1-100)\n",
       "0                  15                      39\n",
       "1                  15                      81\n",
       "2                  16                       6\n",
       "3                  16                      77\n",
       "4                  17                      40"
      ]
     },
     "execution_count": 181,
     "metadata": {},
     "output_type": "execute_result"
    }
   ],
   "source": [
    "data = df_starup[['Annual Income (k$)','Spending Score (1-100)']]\n",
    "data.reset_index(drop=True, inplace=True)\n",
    "data.head()"
   ]
  },
  {
   "cell_type": "markdown",
   "id": "c6f34e7c",
   "metadata": {
    "ExecuteTime": {
     "end_time": "2022-02-18T09:03:59.502035Z",
     "start_time": "2022-02-18T09:03:59.472633Z"
    }
   },
   "source": [
    "## ¿Cuántos clusters? (Elbow Method)"
   ]
  },
  {
   "cell_type": "code",
   "execution_count": 182,
   "id": "0f7e1e40",
   "metadata": {
    "ExecuteTime": {
     "end_time": "2022-05-31T20:51:30.710820Z",
     "start_time": "2022-05-31T20:51:30.232821Z"
    }
   },
   "outputs": [],
   "source": [
    "# Encontrar el número de clusters\n",
    "from sklearn.cluster import KMeans\n",
    "wcss = []\n",
    "for i in range(2, 11):\n",
    "    kmeans = KMeans(n_clusters = i, init = 'k-means++', random_state = 12)\n",
    "    kmeans.fit(data)\n",
    "    wcss.append(kmeans.inertia_)"
   ]
  },
  {
   "cell_type": "code",
   "execution_count": 183,
   "id": "5a3a8377",
   "metadata": {
    "ExecuteTime": {
     "end_time": "2022-05-31T20:51:33.663554Z",
     "start_time": "2022-05-31T20:51:33.517558Z"
    }
   },
   "outputs": [
    {
     "data": {
      "image/png": "[encoded data removed]",
      "text/plain": [
       "<Figure size 432x288 with 1 Axes>"
      ]
     },
     "metadata": {
      "needs_background": "light"
     },
     "output_type": "display_data"
    }
   ],
   "source": [
    "import matplotlib.pyplot as plt\n",
    "plt.plot(range(2, 11), wcss)\n",
    "plt.title('The Elbow Method')\n",
    "plt.xlabel('Number of clusters')\n",
    "plt.ylabel('WCSS')\n",
    "plt.show()"
   ]
  },
  {
   "cell_type": "markdown",
   "id": "f4504c54",
   "metadata": {
    "ExecuteTime": {
     "end_time": "2022-02-18T09:06:07.215124Z",
     "start_time": "2022-02-18T09:06:07.201124Z"
    }
   },
   "source": [
    "## Definición de clusters k-means"
   ]
  },
  {
   "cell_type": "code",
   "execution_count": 184,
   "id": "af6a8729",
   "metadata": {
    "ExecuteTime": {
     "end_time": "2022-05-31T20:51:37.939761Z",
     "start_time": "2022-05-31T20:51:37.833760Z"
    }
   },
   "outputs": [
    {
     "data": {
      "text/html": [
       "<div>\n",
       "<style scoped>\n",
       "    .dataframe tbody tr th:only-of-type {\n",
       "        vertical-align: middle;\n",
       "    }\n",
       "\n",
       "    .dataframe tbody tr th {\n",
       "        vertical-align: top;\n",
       "    }\n",
       "\n",
       "    .dataframe thead th {\n",
       "        text-align: right;\n",
       "    }\n",
       "</style>\n",
       "<table border=\"1\" class=\"dataframe\">\n",
       "  <thead>\n",
       "    <tr style=\"text-align: right;\">\n",
       "      <th></th>\n",
       "      <th>Annual Income (k$)</th>\n",
       "      <th>Spending Score (1-100)</th>\n",
       "      <th>cluster</th>\n",
       "    </tr>\n",
       "  </thead>\n",
       "  <tbody>\n",
       "    <tr>\n",
       "      <th>0</th>\n",
       "      <td>15</td>\n",
       "      <td>39</td>\n",
       "      <td>2</td>\n",
       "    </tr>\n",
       "    <tr>\n",
       "      <th>1</th>\n",
       "      <td>15</td>\n",
       "      <td>81</td>\n",
       "      <td>3</td>\n",
       "    </tr>\n",
       "    <tr>\n",
       "      <th>2</th>\n",
       "      <td>16</td>\n",
       "      <td>6</td>\n",
       "      <td>2</td>\n",
       "    </tr>\n",
       "    <tr>\n",
       "      <th>3</th>\n",
       "      <td>16</td>\n",
       "      <td>77</td>\n",
       "      <td>3</td>\n",
       "    </tr>\n",
       "    <tr>\n",
       "      <th>4</th>\n",
       "      <td>17</td>\n",
       "      <td>40</td>\n",
       "      <td>2</td>\n",
       "    </tr>\n",
       "  </tbody>\n",
       "</table>\n",
       "</div>"
      ],
      "text/plain": [
       "   Annual Income (k$)  Spending Score (1-100)  cluster\n",
       "0                  15                      39        2\n",
       "1                  15                      81        3\n",
       "2                  16                       6        2\n",
       "3                  16                      77        3\n",
       "4                  17                      40        2"
      ]
     },
     "execution_count": 184,
     "metadata": {},
     "output_type": "execute_result"
    }
   ],
   "source": [
    "import warnings\n",
    "warnings.filterwarnings('ignore')\n",
    "kmeans = KMeans(n_clusters = 5, init = \"k-means++\", random_state = 42).fit(data)\n",
    "data['cluster'] = kmeans.labels_\n",
    "data.head()"
   ]
  },
  {
   "cell_type": "code",
   "execution_count": 185,
   "id": "a7ee8203",
   "metadata": {
    "ExecuteTime": {
     "end_time": "2022-05-31T20:51:55.927725Z",
     "start_time": "2022-05-31T20:51:55.917729Z"
    }
   },
   "outputs": [
    {
     "name": "stdout",
     "output_type": "stream",
     "text": [
      "   Annual Income (k$)  Spending Score (1-100)  freq  freq_r\n",
      "0           55.296296               49.518519    81   0.405\n",
      "1           88.200000               17.114286    35   0.175\n",
      "2           26.304348               20.913043    23   0.115\n",
      "3           25.727273               79.363636    22   0.110\n",
      "4           86.538462               82.128205    39   0.195\n"
     ]
    }
   ],
   "source": [
    "centers = pd.DataFrame(kmeans.cluster_centers_, columns=['Annual Income (k$)', 'Spending Score (1-100)'])\n",
    "centers['freq']=data['cluster'].value_counts()\n",
    "centers['freq_r']=data['cluster'].value_counts(normalize=True)\n",
    "print(centers)"
   ]
  },
  {
   "cell_type": "markdown",
   "id": "23f09abe",
   "metadata": {},
   "source": [
    "## Visualización clusters con dos variables"
   ]
  },
  {
   "cell_type": "code",
   "execution_count": 186,
   "id": "30da602d",
   "metadata": {
    "ExecuteTime": {
     "end_time": "2022-05-31T20:52:15.632897Z",
     "start_time": "2022-05-31T20:52:15.376900Z"
    }
   },
   "outputs": [
    {
     "data": {
      "image/png": "[encoded data removed]",
      "text/plain": [
       "<Figure size 576x576 with 1 Axes>"
      ]
     },
     "metadata": {
      "needs_background": "light"
     },
     "output_type": "display_data"
    }
   ],
   "source": [
    "import seaborn as sns \n",
    "fig, ax = plt.subplots(figsize=(8, 8))\n",
    "ax = sns.scatterplot(x='Annual Income (k$)', y='Spending Score (1-100)', hue='cluster', style='cluster', \n",
    "                     ax=ax, data=data)\n",
    "ax.set_xlim(10, 150)\n",
    "ax.set_ylim(1, 100)\n",
    "centers.plot.scatter(x='Annual Income (k$)', y='Spending Score (1-100)', ax=ax, s=50, color='black')\n",
    "plt.tight_layout()\n",
    "plt.show()"
   ]
  },
  {
   "cell_type": "code",
   "execution_count": 187,
   "id": "9a76cb49",
   "metadata": {
    "ExecuteTime": {
     "end_time": "2022-05-31T20:52:19.205485Z",
     "start_time": "2022-05-31T20:52:18.937488Z"
    }
   },
   "outputs": [
    {
     "data": {
      "image/png": "[encoded data removed]",
      "text/plain": [
       "<Figure size 432x288 with 1 Axes>"
      ]
     },
     "metadata": {
      "needs_background": "light"
     },
     "output_type": "display_data"
    }
   ],
   "source": [
    "import matplotlib.pyplot as plt\n",
    "plt.scatter(data[data['cluster']==0]['Annual Income (k$)'], data[data['cluster']==0]['Spending Score (1-100)'], s = 60, c = 'blue', label = 'Cluster1')\n",
    "plt.scatter(data[data['cluster']==1]['Annual Income (k$)'], data[data['cluster']==1]['Spending Score (1-100)'], s = 60, c = 'violet', label = 'Cluster2')\n",
    "plt.scatter(data[data['cluster']==2]['Annual Income (k$)'], data[data['cluster']==2]['Spending Score (1-100)'], s = 60, c = 'yellow', label = 'Cluster3')\n",
    "plt.scatter(data[data['cluster']==3]['Annual Income (k$)'], data[data['cluster']==3]['Spending Score (1-100)'], s = 60, c = 'red', label = 'Cluster4')\n",
    "plt.scatter(data[data['cluster']==4]['Annual Income (k$)'], data[data['cluster']==4]['Spending Score (1-100)'], s = 60, c = 'green', label = 'Cluster5') \n",
    "plt.scatter(centers['Annual Income (k$)'], centers['Spending Score (1-100)'], s = 100, c = 'black', label = 'Centroids')\n",
    "plt.xlabel('Annual Income (k$)') \n",
    "plt.ylabel('Spending Score (1-100)') \n",
    "plt.legend()             \n",
    "plt.show()"
   ]
  },
  {
   "cell_type": "markdown",
   "id": "426b61a5",
   "metadata": {},
   "source": [
    "## Caracterización de los clusters\n",
    "\n",
    "Debemos caracterizar los clusters:\n",
    "\n",
    "+ Cluster 1:Cliente estándar.\n",
    "+ Cluster 2:Cliente cuidadoso-cliente potencial.\n",
    "+ Cluster 3:Cliente sensible-de cuidado.\n",
    "+ Cluster 4:Cliente descuidado-riesgoso.\n",
    "+ Cluster 5:Cliente objetivo."
   ]
  },
  {
   "cell_type": "markdown",
   "id": "54f711d7",
   "metadata": {},
   "source": [
    "# K-means con todas las variables"
   ]
  },
  {
   "cell_type": "code",
   "execution_count": 316,
   "id": "1a9e8146",
   "metadata": {
    "ExecuteTime": {
     "end_time": "2022-05-31T22:19:22.097691Z",
     "start_time": "2022-05-31T22:19:22.075697Z"
    }
   },
   "outputs": [
    {
     "data": {
      "text/html": [
       "<div>\n",
       "<style scoped>\n",
       "    .dataframe tbody tr th:only-of-type {\n",
       "        vertical-align: middle;\n",
       "    }\n",
       "\n",
       "    .dataframe tbody tr th {\n",
       "        vertical-align: top;\n",
       "    }\n",
       "\n",
       "    .dataframe thead th {\n",
       "        text-align: right;\n",
       "    }\n",
       "</style>\n",
       "<table border=\"1\" class=\"dataframe\">\n",
       "  <thead>\n",
       "    <tr style=\"text-align: right;\">\n",
       "      <th></th>\n",
       "      <th>Annual Income (k$)</th>\n",
       "      <th>Spending Score (1-100)</th>\n",
       "      <th>Age</th>\n",
       "      <th>Gender_M</th>\n",
       "    </tr>\n",
       "  </thead>\n",
       "  <tbody>\n",
       "    <tr>\n",
       "      <th>0</th>\n",
       "      <td>15</td>\n",
       "      <td>39</td>\n",
       "      <td>19</td>\n",
       "      <td>1.0</td>\n",
       "    </tr>\n",
       "    <tr>\n",
       "      <th>1</th>\n",
       "      <td>15</td>\n",
       "      <td>81</td>\n",
       "      <td>21</td>\n",
       "      <td>1.0</td>\n",
       "    </tr>\n",
       "    <tr>\n",
       "      <th>2</th>\n",
       "      <td>16</td>\n",
       "      <td>6</td>\n",
       "      <td>20</td>\n",
       "      <td>0.0</td>\n",
       "    </tr>\n",
       "    <tr>\n",
       "      <th>3</th>\n",
       "      <td>16</td>\n",
       "      <td>77</td>\n",
       "      <td>23</td>\n",
       "      <td>0.0</td>\n",
       "    </tr>\n",
       "    <tr>\n",
       "      <th>4</th>\n",
       "      <td>17</td>\n",
       "      <td>40</td>\n",
       "      <td>31</td>\n",
       "      <td>0.0</td>\n",
       "    </tr>\n",
       "  </tbody>\n",
       "</table>\n",
       "</div>"
      ],
      "text/plain": [
       "   Annual Income (k$)  Spending Score (1-100)  Age  Gender_M\n",
       "0                  15                      39   19       1.0\n",
       "1                  15                      81   21       1.0\n",
       "2                  16                       6   20       0.0\n",
       "3                  16                      77   23       0.0\n",
       "4                  17                      40   31       0.0"
      ]
     },
     "execution_count": 316,
     "metadata": {},
     "output_type": "execute_result"
    }
   ],
   "source": [
    "# preprocessing\n",
    "data1 = df_starup[['Annual Income (k$)','Spending Score (1-100)', 'Age']]\n",
    "data1['Gender_M'] = (df_starup['Gender'] == 'Male')*1.0\n",
    "data1.reset_index(drop=True, inplace=True)\n",
    "data1.head()"
   ]
  },
  {
   "cell_type": "markdown",
   "id": "5f8e68e9",
   "metadata": {
    "ExecuteTime": {
     "end_time": "2022-02-18T09:12:26.823381Z",
     "start_time": "2022-02-18T09:12:26.808386Z"
    }
   },
   "source": [
    "## Elbow Method"
   ]
  },
  {
   "cell_type": "code",
   "execution_count": 317,
   "id": "df489d91",
   "metadata": {
    "ExecuteTime": {
     "end_time": "2022-05-31T22:19:28.814953Z",
     "start_time": "2022-05-31T22:19:28.174948Z"
    }
   },
   "outputs": [
    {
     "data": {
      "image/png": "[encoded data removed]",
      "text/plain": [
       "<Figure size 432x288 with 1 Axes>"
      ]
     },
     "metadata": {
      "needs_background": "light"
     },
     "output_type": "display_data"
    }
   ],
   "source": [
    "from sklearn.cluster import KMeans\n",
    "data_km=data1.copy()\n",
    "wcss = []\n",
    "for i in range(2, 11):\n",
    "    kmeans = KMeans(n_clusters = i, init = 'k-means++', random_state = 12)\n",
    "    kmeans.fit(data_km)\n",
    "    wcss.append(kmeans.inertia_)\n",
    "\n",
    "\n",
    "    \n",
    "import matplotlib.pyplot as plt\n",
    "plt.plot(range(2, 11), wcss)\n",
    "plt.title('The Elbow Method')\n",
    "plt.xlabel('Number of clusters')\n",
    "plt.ylabel('WCSS')\n",
    "plt.show()"
   ]
  },
  {
   "cell_type": "markdown",
   "id": "9d322e94",
   "metadata": {},
   "source": [
    "## Definición de clusters"
   ]
  },
  {
   "cell_type": "code",
   "execution_count": 318,
   "id": "f1f2b8d5",
   "metadata": {
    "ExecuteTime": {
     "end_time": "2022-05-31T22:19:31.533642Z",
     "start_time": "2022-05-31T22:19:31.423654Z"
    }
   },
   "outputs": [
    {
     "data": {
      "text/html": [
       "<div>\n",
       "<style scoped>\n",
       "    .dataframe tbody tr th:only-of-type {\n",
       "        vertical-align: middle;\n",
       "    }\n",
       "\n",
       "    .dataframe tbody tr th {\n",
       "        vertical-align: top;\n",
       "    }\n",
       "\n",
       "    .dataframe thead th {\n",
       "        text-align: right;\n",
       "    }\n",
       "</style>\n",
       "<table border=\"1\" class=\"dataframe\">\n",
       "  <thead>\n",
       "    <tr style=\"text-align: right;\">\n",
       "      <th></th>\n",
       "      <th>Annual Income (k$)</th>\n",
       "      <th>Spending Score (1-100)</th>\n",
       "      <th>Age</th>\n",
       "      <th>Gender_M</th>\n",
       "      <th>freq</th>\n",
       "      <th>freq_r</th>\n",
       "    </tr>\n",
       "  </thead>\n",
       "  <tbody>\n",
       "    <tr>\n",
       "      <th>0</th>\n",
       "      <td>86.538462</td>\n",
       "      <td>82.128205</td>\n",
       "      <td>32.692308</td>\n",
       "      <td>0.461538</td>\n",
       "      <td>39</td>\n",
       "      <td>0.195</td>\n",
       "    </tr>\n",
       "    <tr>\n",
       "      <th>1</th>\n",
       "      <td>53.377778</td>\n",
       "      <td>49.088889</td>\n",
       "      <td>56.155556</td>\n",
       "      <td>0.444444</td>\n",
       "      <td>45</td>\n",
       "      <td>0.225</td>\n",
       "    </tr>\n",
       "    <tr>\n",
       "      <th>2</th>\n",
       "      <td>25.727273</td>\n",
       "      <td>79.363636</td>\n",
       "      <td>25.272727</td>\n",
       "      <td>0.409091</td>\n",
       "      <td>22</td>\n",
       "      <td>0.110</td>\n",
       "    </tr>\n",
       "    <tr>\n",
       "      <th>3</th>\n",
       "      <td>88.228571</td>\n",
       "      <td>17.285714</td>\n",
       "      <td>41.685714</td>\n",
       "      <td>0.571429</td>\n",
       "      <td>35</td>\n",
       "      <td>0.175</td>\n",
       "    </tr>\n",
       "    <tr>\n",
       "      <th>4</th>\n",
       "      <td>56.657895</td>\n",
       "      <td>49.131579</td>\n",
       "      <td>27.000000</td>\n",
       "      <td>0.342105</td>\n",
       "      <td>38</td>\n",
       "      <td>0.190</td>\n",
       "    </tr>\n",
       "    <tr>\n",
       "      <th>5</th>\n",
       "      <td>25.142857</td>\n",
       "      <td>19.523810</td>\n",
       "      <td>44.142857</td>\n",
       "      <td>0.380952</td>\n",
       "      <td>21</td>\n",
       "      <td>0.105</td>\n",
       "    </tr>\n",
       "  </tbody>\n",
       "</table>\n",
       "</div>"
      ],
      "text/plain": [
       "   Annual Income (k$)  Spending Score (1-100)        Age  Gender_M  freq  \\\n",
       "0           86.538462               82.128205  32.692308  0.461538    39   \n",
       "1           53.377778               49.088889  56.155556  0.444444    45   \n",
       "2           25.727273               79.363636  25.272727  0.409091    22   \n",
       "3           88.228571               17.285714  41.685714  0.571429    35   \n",
       "4           56.657895               49.131579  27.000000  0.342105    38   \n",
       "5           25.142857               19.523810  44.142857  0.380952    21   \n",
       "\n",
       "   freq_r  \n",
       "0   0.195  \n",
       "1   0.225  \n",
       "2   0.110  \n",
       "3   0.175  \n",
       "4   0.190  \n",
       "5   0.105  "
      ]
     },
     "execution_count": 318,
     "metadata": {},
     "output_type": "execute_result"
    }
   ],
   "source": [
    "import warnings\n",
    "warnings.filterwarnings('ignore')\n",
    "kmeans1 = KMeans(n_clusters = 6, init = \"k-means++\", random_state = 42).fit(data_km)\n",
    "data_km['cluster'] = kmeans1.labels_\n",
    "\n",
    "centers1 = pd.DataFrame(kmeans1.cluster_centers_, columns=['Annual Income (k$)', 'Spending Score (1-100)', 'Age', 'Gender_M'])\n",
    "\n",
    "centers1['freq']=data_km['cluster'].value_counts()\n",
    "centers1['freq_r']=data_km['cluster'].value_counts(normalize=True)\n",
    "centers1"
   ]
  },
  {
   "cell_type": "markdown",
   "id": "8ca33c5c",
   "metadata": {
    "ExecuteTime": {
     "end_time": "2022-02-18T09:16:18.086181Z",
     "start_time": "2022-02-18T09:16:18.081180Z"
    }
   },
   "source": [
    "## Clusters con data transformada (StandardScale)\n",
    "## K-means"
   ]
  },
  {
   "cell_type": "code",
   "execution_count": 319,
   "id": "0d2479dd",
   "metadata": {
    "ExecuteTime": {
     "end_time": "2022-05-31T22:19:34.379616Z",
     "start_time": "2022-05-31T22:19:34.343654Z"
    }
   },
   "outputs": [
    {
     "data": {
      "text/html": [
       "<div>\n",
       "<style scoped>\n",
       "    .dataframe tbody tr th:only-of-type {\n",
       "        vertical-align: middle;\n",
       "    }\n",
       "\n",
       "    .dataframe tbody tr th {\n",
       "        vertical-align: top;\n",
       "    }\n",
       "\n",
       "    .dataframe thead th {\n",
       "        text-align: right;\n",
       "    }\n",
       "</style>\n",
       "<table border=\"1\" class=\"dataframe\">\n",
       "  <thead>\n",
       "    <tr style=\"text-align: right;\">\n",
       "      <th></th>\n",
       "      <th>Annual Income (k$)_s</th>\n",
       "      <th>Spending Score (1-100)_s</th>\n",
       "      <th>Age_s</th>\n",
       "      <th>Gender_M_s</th>\n",
       "    </tr>\n",
       "  </thead>\n",
       "  <tbody>\n",
       "    <tr>\n",
       "      <th>0</th>\n",
       "      <td>-1.738999</td>\n",
       "      <td>-0.434801</td>\n",
       "      <td>-1.424569</td>\n",
       "      <td>1.128152</td>\n",
       "    </tr>\n",
       "    <tr>\n",
       "      <th>1</th>\n",
       "      <td>-1.738999</td>\n",
       "      <td>1.195704</td>\n",
       "      <td>-1.281035</td>\n",
       "      <td>1.128152</td>\n",
       "    </tr>\n",
       "    <tr>\n",
       "      <th>2</th>\n",
       "      <td>-1.700830</td>\n",
       "      <td>-1.715913</td>\n",
       "      <td>-1.352802</td>\n",
       "      <td>-0.886405</td>\n",
       "    </tr>\n",
       "    <tr>\n",
       "      <th>3</th>\n",
       "      <td>-1.700830</td>\n",
       "      <td>1.040418</td>\n",
       "      <td>-1.137502</td>\n",
       "      <td>-0.886405</td>\n",
       "    </tr>\n",
       "    <tr>\n",
       "      <th>4</th>\n",
       "      <td>-1.662660</td>\n",
       "      <td>-0.395980</td>\n",
       "      <td>-0.563369</td>\n",
       "      <td>-0.886405</td>\n",
       "    </tr>\n",
       "  </tbody>\n",
       "</table>\n",
       "</div>"
      ],
      "text/plain": [
       "   Annual Income (k$)_s  Spending Score (1-100)_s     Age_s  Gender_M_s\n",
       "0             -1.738999                 -0.434801 -1.424569    1.128152\n",
       "1             -1.738999                  1.195704 -1.281035    1.128152\n",
       "2             -1.700830                 -1.715913 -1.352802   -0.886405\n",
       "3             -1.700830                  1.040418 -1.137502   -0.886405\n",
       "4             -1.662660                 -0.395980 -0.563369   -0.886405"
      ]
     },
     "execution_count": 319,
     "metadata": {},
     "output_type": "execute_result"
    }
   ],
   "source": [
    "from sklearn import preprocessing\n",
    "data_sd = preprocessing.scale(data1)\n",
    "data_sd = pd.DataFrame(data_sd, columns = ['Annual Income (k$)_s', 'Spending Score (1-100)_s', 'Age_s', 'Gender_M_s'])\n",
    "data_sd.head()"
   ]
  },
  {
   "cell_type": "markdown",
   "id": "a499089e",
   "metadata": {},
   "source": [
    "## Elbow Method"
   ]
  },
  {
   "cell_type": "code",
   "execution_count": 320,
   "id": "67d04737",
   "metadata": {
    "ExecuteTime": {
     "end_time": "2022-05-31T22:19:38.593560Z",
     "start_time": "2022-05-31T22:19:37.924566Z"
    }
   },
   "outputs": [
    {
     "data": {
      "image/png": "[encoded data removed]",
      "text/plain": [
       "<Figure size 432x288 with 1 Axes>"
      ]
     },
     "metadata": {
      "needs_background": "light"
     },
     "output_type": "display_data"
    }
   ],
   "source": [
    "data_sd_km=data_sd.copy() \n",
    "wcss = []\n",
    "for i in range(2, 11):\n",
    "    kmeans = KMeans(n_clusters = i, init = 'k-means++', random_state = 12)\n",
    "    kmeans.fit(data_sd_km)\n",
    "    wcss.append(kmeans.inertia_)\n",
    "\n",
    "\n",
    "    \n",
    "import matplotlib.pyplot as plt\n",
    "plt.plot(range(2, 11), wcss)\n",
    "plt.title('The Elbow Method')\n",
    "plt.xlabel('Number of clusters')\n",
    "plt.ylabel('WCSS')\n",
    "plt.show()"
   ]
  },
  {
   "cell_type": "markdown",
   "id": "d8f8369f",
   "metadata": {},
   "source": [
    "## Definición de clusters data escalada"
   ]
  },
  {
   "cell_type": "code",
   "execution_count": 321,
   "id": "9ddfa5a0",
   "metadata": {
    "ExecuteTime": {
     "end_time": "2022-05-31T22:19:42.717750Z",
     "start_time": "2022-05-31T22:19:42.609755Z"
    }
   },
   "outputs": [
    {
     "name": "stdout",
     "output_type": "stream",
     "text": [
      "   Annual Income (k$)_s  Spending Score (1-100)_s     Age_s  Gender_M_s  freq  \\\n",
      "0             -0.493545                 -0.440553  1.376990    1.128152    27   \n",
      "1              0.943271                  1.179823 -0.452456   -0.886405    22   \n",
      "2             -0.737052                  0.416038 -0.976027    1.128152    24   \n",
      "3              0.997749                 -0.960834  0.157887   -0.886405    20   \n",
      "4              0.967012                 -1.397168 -0.027007    1.128152    19   \n",
      "5             -0.528180                 -0.367942  0.891900   -0.886405    36   \n",
      "6             -0.802726                  0.361041 -0.922202   -0.886405    34   \n",
      "7              1.013441                  1.260407 -0.399900    1.128152    18   \n",
      "\n",
      "   freq_r  \n",
      "0   0.135  \n",
      "1   0.110  \n",
      "2   0.120  \n",
      "3   0.100  \n",
      "4   0.095  \n",
      "5   0.180  \n",
      "6   0.170  \n",
      "7   0.090  \n"
     ]
    }
   ],
   "source": [
    "import warnings\n",
    "warnings.filterwarnings('ignore')\n",
    "kmeans = KMeans(n_clusters = 8, init = \"k-means++\", random_state = 42).fit(data_sd)\n",
    "data_sd_km['cluster'] = kmeans.labels_\n",
    "\n",
    "centers2 = pd.DataFrame(kmeans.cluster_centers_, columns=['Annual Income (k$)_s', 'Spending Score (1-100)_s', 'Age_s', 'Gender_M_s'])\n",
    "centers2['freq']=data_sd_km['cluster'].value_counts()\n",
    "centers2['freq_r']=data_sd_km['cluster'].value_counts(normalize=True)\n",
    "print(centers2)"
   ]
  },
  {
   "cell_type": "markdown",
   "id": "f185746f",
   "metadata": {},
   "source": [
    "## Definición de clusters con data en unidades reales"
   ]
  },
  {
   "cell_type": "code",
   "execution_count": 322,
   "id": "a255e1d6",
   "metadata": {
    "ExecuteTime": {
     "end_time": "2022-05-31T22:19:46.097842Z",
     "start_time": "2022-05-31T22:19:46.053847Z"
    }
   },
   "outputs": [
    {
     "data": {
      "text/html": [
       "<div>\n",
       "<style scoped>\n",
       "    .dataframe tbody tr th:only-of-type {\n",
       "        vertical-align: middle;\n",
       "    }\n",
       "\n",
       "    .dataframe tbody tr th {\n",
       "        vertical-align: top;\n",
       "    }\n",
       "\n",
       "    .dataframe thead th {\n",
       "        text-align: right;\n",
       "    }\n",
       "</style>\n",
       "<table border=\"1\" class=\"dataframe\">\n",
       "  <thead>\n",
       "    <tr style=\"text-align: right;\">\n",
       "      <th></th>\n",
       "      <th>Annual Income (k$)</th>\n",
       "      <th>Spending Score (1-100)</th>\n",
       "      <th>Age</th>\n",
       "      <th>Gender_M</th>\n",
       "      <th>freq</th>\n",
       "      <th>freq_r</th>\n",
       "    </tr>\n",
       "  </thead>\n",
       "  <tbody>\n",
       "    <tr>\n",
       "      <th>0</th>\n",
       "      <td>47.597182</td>\n",
       "      <td>38.823375</td>\n",
       "      <td>58.085185</td>\n",
       "      <td>1.001405</td>\n",
       "      <td>27</td>\n",
       "      <td>0.135</td>\n",
       "    </tr>\n",
       "    <tr>\n",
       "      <th>1</th>\n",
       "      <td>85.334742</td>\n",
       "      <td>80.667172</td>\n",
       "      <td>32.529634</td>\n",
       "      <td>-0.001104</td>\n",
       "      <td>22</td>\n",
       "      <td>0.110</td>\n",
       "    </tr>\n",
       "    <tr>\n",
       "      <th>2</th>\n",
       "      <td>41.201543</td>\n",
       "      <td>60.943559</td>\n",
       "      <td>25.215872</td>\n",
       "      <td>1.001405</td>\n",
       "      <td>24</td>\n",
       "      <td>0.120</td>\n",
       "    </tr>\n",
       "    <tr>\n",
       "      <th>3</th>\n",
       "      <td>86.765596</td>\n",
       "      <td>25.387892</td>\n",
       "      <td>41.055521</td>\n",
       "      <td>-0.001104</td>\n",
       "      <td>20</td>\n",
       "      <td>0.100</td>\n",
       "    </tr>\n",
       "    <tr>\n",
       "      <th>4</th>\n",
       "      <td>85.958312</td>\n",
       "      <td>14.120214</td>\n",
       "      <td>38.472740</td>\n",
       "      <td>1.001405</td>\n",
       "      <td>19</td>\n",
       "      <td>0.095</td>\n",
       "    </tr>\n",
       "    <tr>\n",
       "      <th>5</th>\n",
       "      <td>46.687498</td>\n",
       "      <td>40.698439</td>\n",
       "      <td>51.308964</td>\n",
       "      <td>-0.001104</td>\n",
       "      <td>36</td>\n",
       "      <td>0.180</td>\n",
       "    </tr>\n",
       "    <tr>\n",
       "      <th>6</th>\n",
       "      <td>39.476637</td>\n",
       "      <td>59.523338</td>\n",
       "      <td>25.967754</td>\n",
       "      <td>-0.001104</td>\n",
       "      <td>34</td>\n",
       "      <td>0.170</td>\n",
       "    </tr>\n",
       "    <tr>\n",
       "      <th>7</th>\n",
       "      <td>87.177739</td>\n",
       "      <td>82.748139</td>\n",
       "      <td>33.263795</td>\n",
       "      <td>1.001405</td>\n",
       "      <td>18</td>\n",
       "      <td>0.090</td>\n",
       "    </tr>\n",
       "  </tbody>\n",
       "</table>\n",
       "</div>"
      ],
      "text/plain": [
       "   Annual Income (k$)  Spending Score (1-100)        Age  Gender_M  freq  \\\n",
       "0           47.597182               38.823375  58.085185  1.001405    27   \n",
       "1           85.334742               80.667172  32.529634 -0.001104    22   \n",
       "2           41.201543               60.943559  25.215872  1.001405    24   \n",
       "3           86.765596               25.387892  41.055521 -0.001104    20   \n",
       "4           85.958312               14.120214  38.472740  1.001405    19   \n",
       "5           46.687498               40.698439  51.308964 -0.001104    36   \n",
       "6           39.476637               59.523338  25.967754 -0.001104    34   \n",
       "7           87.177739               82.748139  33.263795  1.001405    18   \n",
       "\n",
       "   freq_r  \n",
       "0   0.135  \n",
       "1   0.110  \n",
       "2   0.120  \n",
       "3   0.100  \n",
       "4   0.095  \n",
       "5   0.180  \n",
       "6   0.170  \n",
       "7   0.090  "
      ]
     },
     "execution_count": 322,
     "metadata": {},
     "output_type": "execute_result"
    }
   ],
   "source": [
    "mu =data1.mean()\n",
    "sd=data1.std()\n",
    "centers_inv = pd.DataFrame(columns = centers1.columns)\n",
    "centers_inv['Annual Income (k$)']=centers2['Annual Income (k$)_s']*sd['Annual Income (k$)']+mu['Annual Income (k$)']\n",
    "centers_inv['Spending Score (1-100)']=centers2['Spending Score (1-100)_s']*sd['Spending Score (1-100)']+mu['Spending Score (1-100)']\n",
    "centers_inv['Age']=centers2['Age_s']*sd['Age']+mu['Age']\n",
    "centers_inv['Gender_M']=centers2['Gender_M_s']*sd['Gender_M']+mu['Gender_M']\n",
    "centers_inv['freq']=centers2['freq']\n",
    "centers_inv['freq_r']=centers2['freq_r']\n",
    "centers_inv"
   ]
  },
  {
   "cell_type": "code",
   "execution_count": 323,
   "id": "000d5b47",
   "metadata": {
    "ExecuteTime": {
     "end_time": "2022-05-31T22:19:53.221242Z",
     "start_time": "2022-05-31T22:19:53.198244Z"
    }
   },
   "outputs": [
    {
     "data": {
      "text/html": [
       "<div>\n",
       "<style scoped>\n",
       "    .dataframe tbody tr th:only-of-type {\n",
       "        vertical-align: middle;\n",
       "    }\n",
       "\n",
       "    .dataframe tbody tr th {\n",
       "        vertical-align: top;\n",
       "    }\n",
       "\n",
       "    .dataframe thead th {\n",
       "        text-align: right;\n",
       "    }\n",
       "</style>\n",
       "<table border=\"1\" class=\"dataframe\">\n",
       "  <thead>\n",
       "    <tr style=\"text-align: right;\">\n",
       "      <th></th>\n",
       "      <th>Annual Income (k$)</th>\n",
       "      <th>Spending Score (1-100)</th>\n",
       "      <th>Age</th>\n",
       "      <th>Gender_M</th>\n",
       "    </tr>\n",
       "    <tr>\n",
       "      <th>cluster</th>\n",
       "      <th></th>\n",
       "      <th></th>\n",
       "      <th></th>\n",
       "      <th></th>\n",
       "    </tr>\n",
       "  </thead>\n",
       "  <tbody>\n",
       "    <tr>\n",
       "      <th>0</th>\n",
       "      <td>47.629630</td>\n",
       "      <td>38.851852</td>\n",
       "      <td>58.037037</td>\n",
       "      <td>1.0</td>\n",
       "    </tr>\n",
       "    <tr>\n",
       "      <th>1</th>\n",
       "      <td>85.272727</td>\n",
       "      <td>80.590909</td>\n",
       "      <td>32.545455</td>\n",
       "      <td>0.0</td>\n",
       "    </tr>\n",
       "    <tr>\n",
       "      <th>2</th>\n",
       "      <td>41.250000</td>\n",
       "      <td>60.916667</td>\n",
       "      <td>25.250000</td>\n",
       "      <td>1.0</td>\n",
       "    </tr>\n",
       "    <tr>\n",
       "      <th>3</th>\n",
       "      <td>86.700000</td>\n",
       "      <td>25.450000</td>\n",
       "      <td>41.050000</td>\n",
       "      <td>0.0</td>\n",
       "    </tr>\n",
       "    <tr>\n",
       "      <th>4</th>\n",
       "      <td>85.894737</td>\n",
       "      <td>14.210526</td>\n",
       "      <td>38.473684</td>\n",
       "      <td>1.0</td>\n",
       "    </tr>\n",
       "    <tr>\n",
       "      <th>5</th>\n",
       "      <td>46.722222</td>\n",
       "      <td>40.722222</td>\n",
       "      <td>51.277778</td>\n",
       "      <td>0.0</td>\n",
       "    </tr>\n",
       "    <tr>\n",
       "      <th>6</th>\n",
       "      <td>39.529412</td>\n",
       "      <td>59.500000</td>\n",
       "      <td>26.000000</td>\n",
       "      <td>0.0</td>\n",
       "    </tr>\n",
       "    <tr>\n",
       "      <th>7</th>\n",
       "      <td>87.111111</td>\n",
       "      <td>82.666667</td>\n",
       "      <td>33.277778</td>\n",
       "      <td>1.0</td>\n",
       "    </tr>\n",
       "  </tbody>\n",
       "</table>\n",
       "</div>"
      ],
      "text/plain": [
       "         Annual Income (k$)  Spending Score (1-100)        Age  Gender_M\n",
       "cluster                                                                 \n",
       "0                 47.629630               38.851852  58.037037       1.0\n",
       "1                 85.272727               80.590909  32.545455       0.0\n",
       "2                 41.250000               60.916667  25.250000       1.0\n",
       "3                 86.700000               25.450000  41.050000       0.0\n",
       "4                 85.894737               14.210526  38.473684       1.0\n",
       "5                 46.722222               40.722222  51.277778       0.0\n",
       "6                 39.529412               59.500000  26.000000       0.0\n",
       "7                 87.111111               82.666667  33.277778       1.0"
      ]
     },
     "execution_count": 323,
     "metadata": {},
     "output_type": "execute_result"
    }
   ],
   "source": [
    "data2=data1.copy()\n",
    "data2['cluster']=data_sd_km['cluster']\n",
    "Centers_mean=data2.groupby('cluster').mean()\n",
    "Centers_mean"
   ]
  },
  {
   "cell_type": "markdown",
   "id": "fdb0d421",
   "metadata": {},
   "source": [
    "## Evaluación. Silhouette score"
   ]
  },
  {
   "cell_type": "code",
   "execution_count": 324,
   "id": "3ccd34e3",
   "metadata": {
    "ExecuteTime": {
     "end_time": "2022-05-31T22:19:57.294349Z",
     "start_time": "2022-05-31T22:19:57.273351Z"
    }
   },
   "outputs": [
    {
     "name": "stdout",
     "output_type": "stream",
     "text": [
      "0.5453547636797776\n"
     ]
    }
   ],
   "source": [
    "from sklearn.metrics import silhouette_samples, silhouette_score\n",
    "import matplotlib.pyplot as plt\n",
    "data2['S_S'] = silhouette_samples(data_sd_km,data_sd_km['cluster'])\n",
    "silhouette_score_mean = silhouette_score(data_sd_km,data_sd_km['cluster'])\n",
    "print(silhouette_score_mean)"
   ]
  },
  {
   "cell_type": "code",
   "execution_count": 325,
   "id": "d0423131",
   "metadata": {
    "ExecuteTime": {
     "end_time": "2022-05-31T22:20:00.799437Z",
     "start_time": "2022-05-31T22:20:00.762439Z"
    }
   },
   "outputs": [
    {
     "data": {
      "text/html": [
       "<div>\n",
       "<style scoped>\n",
       "    .dataframe tbody tr th:only-of-type {\n",
       "        vertical-align: middle;\n",
       "    }\n",
       "\n",
       "    .dataframe tbody tr th {\n",
       "        vertical-align: top;\n",
       "    }\n",
       "\n",
       "    .dataframe thead th {\n",
       "        text-align: right;\n",
       "    }\n",
       "</style>\n",
       "<table border=\"1\" class=\"dataframe\">\n",
       "  <thead>\n",
       "    <tr style=\"text-align: right;\">\n",
       "      <th></th>\n",
       "      <th>Annual Income (k$)</th>\n",
       "      <th>Spending Score (1-100)</th>\n",
       "      <th>Age</th>\n",
       "      <th>Gender_M</th>\n",
       "      <th>S_S</th>\n",
       "      <th>freq</th>\n",
       "      <th>freq_r</th>\n",
       "    </tr>\n",
       "    <tr>\n",
       "      <th>cluster</th>\n",
       "      <th></th>\n",
       "      <th></th>\n",
       "      <th></th>\n",
       "      <th></th>\n",
       "      <th></th>\n",
       "      <th></th>\n",
       "      <th></th>\n",
       "    </tr>\n",
       "  </thead>\n",
       "  <tbody>\n",
       "    <tr>\n",
       "      <th>0</th>\n",
       "      <td>47.629630</td>\n",
       "      <td>38.851852</td>\n",
       "      <td>58.037037</td>\n",
       "      <td>1.0</td>\n",
       "      <td>0.586699</td>\n",
       "      <td>27</td>\n",
       "      <td>0.135</td>\n",
       "    </tr>\n",
       "    <tr>\n",
       "      <th>1</th>\n",
       "      <td>85.272727</td>\n",
       "      <td>80.590909</td>\n",
       "      <td>32.545455</td>\n",
       "      <td>0.0</td>\n",
       "      <td>0.711400</td>\n",
       "      <td>22</td>\n",
       "      <td>0.110</td>\n",
       "    </tr>\n",
       "    <tr>\n",
       "      <th>2</th>\n",
       "      <td>41.250000</td>\n",
       "      <td>60.916667</td>\n",
       "      <td>25.250000</td>\n",
       "      <td>1.0</td>\n",
       "      <td>0.563596</td>\n",
       "      <td>24</td>\n",
       "      <td>0.120</td>\n",
       "    </tr>\n",
       "    <tr>\n",
       "      <th>3</th>\n",
       "      <td>86.700000</td>\n",
       "      <td>25.450000</td>\n",
       "      <td>41.050000</td>\n",
       "      <td>0.0</td>\n",
       "      <td>0.484337</td>\n",
       "      <td>20</td>\n",
       "      <td>0.100</td>\n",
       "    </tr>\n",
       "    <tr>\n",
       "      <th>4</th>\n",
       "      <td>85.894737</td>\n",
       "      <td>14.210526</td>\n",
       "      <td>38.473684</td>\n",
       "      <td>1.0</td>\n",
       "      <td>0.477416</td>\n",
       "      <td>19</td>\n",
       "      <td>0.095</td>\n",
       "    </tr>\n",
       "    <tr>\n",
       "      <th>5</th>\n",
       "      <td>46.722222</td>\n",
       "      <td>40.722222</td>\n",
       "      <td>51.277778</td>\n",
       "      <td>0.0</td>\n",
       "      <td>0.490390</td>\n",
       "      <td>36</td>\n",
       "      <td>0.180</td>\n",
       "    </tr>\n",
       "    <tr>\n",
       "      <th>6</th>\n",
       "      <td>39.529412</td>\n",
       "      <td>59.500000</td>\n",
       "      <td>26.000000</td>\n",
       "      <td>0.0</td>\n",
       "      <td>0.461917</td>\n",
       "      <td>34</td>\n",
       "      <td>0.170</td>\n",
       "    </tr>\n",
       "    <tr>\n",
       "      <th>7</th>\n",
       "      <td>87.111111</td>\n",
       "      <td>82.666667</td>\n",
       "      <td>33.277778</td>\n",
       "      <td>1.0</td>\n",
       "      <td>0.663117</td>\n",
       "      <td>18</td>\n",
       "      <td>0.090</td>\n",
       "    </tr>\n",
       "  </tbody>\n",
       "</table>\n",
       "</div>"
      ],
      "text/plain": [
       "         Annual Income (k$)  Spending Score (1-100)        Age  Gender_M  \\\n",
       "cluster                                                                    \n",
       "0                 47.629630               38.851852  58.037037       1.0   \n",
       "1                 85.272727               80.590909  32.545455       0.0   \n",
       "2                 41.250000               60.916667  25.250000       1.0   \n",
       "3                 86.700000               25.450000  41.050000       0.0   \n",
       "4                 85.894737               14.210526  38.473684       1.0   \n",
       "5                 46.722222               40.722222  51.277778       0.0   \n",
       "6                 39.529412               59.500000  26.000000       0.0   \n",
       "7                 87.111111               82.666667  33.277778       1.0   \n",
       "\n",
       "              S_S  freq  freq_r  \n",
       "cluster                          \n",
       "0        0.586699    27   0.135  \n",
       "1        0.711400    22   0.110  \n",
       "2        0.563596    24   0.120  \n",
       "3        0.484337    20   0.100  \n",
       "4        0.477416    19   0.095  \n",
       "5        0.490390    36   0.180  \n",
       "6        0.461917    34   0.170  \n",
       "7        0.663117    18   0.090  "
      ]
     },
     "execution_count": 325,
     "metadata": {},
     "output_type": "execute_result"
    }
   ],
   "source": [
    "Centers_mean=data2.groupby('cluster').mean()\n",
    "Centers_mean['freq']=data2['cluster'].value_counts()\n",
    "Centers_mean['freq_r']=data2['cluster'].value_counts(normalize=True)\n",
    "Centers_mean"
   ]
  },
  {
   "cell_type": "markdown",
   "id": "7ac01c7a",
   "metadata": {},
   "source": [
    "# Cluster Jerárquico"
   ]
  },
  {
   "cell_type": "code",
   "execution_count": 326,
   "id": "3782f60d",
   "metadata": {
    "ExecuteTime": {
     "end_time": "2022-05-31T22:20:08.545801Z",
     "start_time": "2022-05-31T22:20:05.281661Z"
    }
   },
   "outputs": [
    {
     "data": {
      "image/png": "[encoded data removed]",
      "text/plain": [
       "<Figure size 432x288 with 1 Axes>"
      ]
     },
     "metadata": {
      "needs_background": "light"
     },
     "output_type": "display_data"
    }
   ],
   "source": [
    "from matplotlib import pyplot as plt\n",
    "import scipy.cluster.hierarchy as sch\n",
    "data_sdh=data_sd.copy()\n",
    "data_sdh1=data_sd.copy()\n",
    "data1h=data1.copy()\n",
    "dendrogram = sch.dendrogram(sch.linkage(data_sdh, method  = \"ward\"))\n",
    "plt.title('Dendrogram')\n",
    "plt.xlabel('Customers')\n",
    "plt.ylabel('distances')\n",
    "plt.show()"
   ]
  },
  {
   "cell_type": "markdown",
   "id": "318072c7",
   "metadata": {},
   "source": [
    "## Definición de clusters y evaluación"
   ]
  },
  {
   "cell_type": "code",
   "execution_count": 359,
   "id": "258b77c2",
   "metadata": {
    "ExecuteTime": {
     "end_time": "2022-05-31T22:27:53.508006Z",
     "start_time": "2022-05-31T22:27:53.471007Z"
    }
   },
   "outputs": [
    {
     "name": "stdout",
     "output_type": "stream",
     "text": [
      "0.4941236222686629\n"
     ]
    }
   ],
   "source": [
    "#https://scikit-learn.org/stable/modules/generated/sklearn.cluster.AgglomerativeClustering.html\n",
    "from sklearn.cluster import AgglomerativeClustering \n",
    "hc = AgglomerativeClustering(n_clusters = 8, affinity = 'euclidean', linkage ='ward')\n",
    "y_hc=hc.fit_predict(data_sdh)\n",
    "data1h['cluster_hc']=y_hc\n",
    "data_sdh1['cluster_hc']=y_hc\n",
    "data1h['S_S_hc'] = silhouette_samples(data_sdh1,data_sdh1['cluster_hc'])\n",
    "silhouette_score_mean_hc = silhouette_score(data_sdh1,data_sdh1['cluster_hc'])\n",
    "print(silhouette_score_mean_hc)"
   ]
  },
  {
   "cell_type": "code",
   "execution_count": 360,
   "id": "e11cacf7",
   "metadata": {
    "ExecuteTime": {
     "end_time": "2022-05-31T22:27:55.744793Z",
     "start_time": "2022-05-31T22:27:55.700778Z"
    }
   },
   "outputs": [
    {
     "data": {
      "text/html": [
       "<div>\n",
       "<style scoped>\n",
       "    .dataframe tbody tr th:only-of-type {\n",
       "        vertical-align: middle;\n",
       "    }\n",
       "\n",
       "    .dataframe tbody tr th {\n",
       "        vertical-align: top;\n",
       "    }\n",
       "\n",
       "    .dataframe thead th {\n",
       "        text-align: right;\n",
       "    }\n",
       "</style>\n",
       "<table border=\"1\" class=\"dataframe\">\n",
       "  <thead>\n",
       "    <tr style=\"text-align: right;\">\n",
       "      <th></th>\n",
       "      <th>Annual Income (k$)</th>\n",
       "      <th>Spending Score (1-100)</th>\n",
       "      <th>Age</th>\n",
       "      <th>Gender_M</th>\n",
       "      <th>S_S_hc</th>\n",
       "      <th>freq_hc</th>\n",
       "      <th>freq_r_hc</th>\n",
       "    </tr>\n",
       "    <tr>\n",
       "      <th>cluster_hc</th>\n",
       "      <th></th>\n",
       "      <th></th>\n",
       "      <th></th>\n",
       "      <th></th>\n",
       "      <th></th>\n",
       "      <th></th>\n",
       "      <th></th>\n",
       "    </tr>\n",
       "  </thead>\n",
       "  <tbody>\n",
       "    <tr>\n",
       "      <th>0</th>\n",
       "      <td>46.526316</td>\n",
       "      <td>58.552632</td>\n",
       "      <td>27.105263</td>\n",
       "      <td>0.0</td>\n",
       "      <td>0.438005</td>\n",
       "      <td>38</td>\n",
       "      <td>0.190</td>\n",
       "    </tr>\n",
       "    <tr>\n",
       "      <th>1</th>\n",
       "      <td>44.105263</td>\n",
       "      <td>39.657895</td>\n",
       "      <td>49.789474</td>\n",
       "      <td>0.0</td>\n",
       "      <td>0.418860</td>\n",
       "      <td>38</td>\n",
       "      <td>0.190</td>\n",
       "    </tr>\n",
       "    <tr>\n",
       "      <th>2</th>\n",
       "      <td>39.217391</td>\n",
       "      <td>59.652174</td>\n",
       "      <td>24.565217</td>\n",
       "      <td>1.0</td>\n",
       "      <td>0.526353</td>\n",
       "      <td>23</td>\n",
       "      <td>0.115</td>\n",
       "    </tr>\n",
       "    <tr>\n",
       "      <th>3</th>\n",
       "      <td>86.388889</td>\n",
       "      <td>11.666667</td>\n",
       "      <td>38.833333</td>\n",
       "      <td>1.0</td>\n",
       "      <td>0.437881</td>\n",
       "      <td>18</td>\n",
       "      <td>0.090</td>\n",
       "    </tr>\n",
       "    <tr>\n",
       "      <th>4</th>\n",
       "      <td>50.034483</td>\n",
       "      <td>41.344828</td>\n",
       "      <td>56.551724</td>\n",
       "      <td>1.0</td>\n",
       "      <td>0.475323</td>\n",
       "      <td>29</td>\n",
       "      <td>0.145</td>\n",
       "    </tr>\n",
       "    <tr>\n",
       "      <th>5</th>\n",
       "      <td>87.111111</td>\n",
       "      <td>82.666667</td>\n",
       "      <td>33.277778</td>\n",
       "      <td>1.0</td>\n",
       "      <td>0.550082</td>\n",
       "      <td>18</td>\n",
       "      <td>0.090</td>\n",
       "    </tr>\n",
       "    <tr>\n",
       "      <th>6</th>\n",
       "      <td>86.047619</td>\n",
       "      <td>81.666667</td>\n",
       "      <td>32.190476</td>\n",
       "      <td>0.0</td>\n",
       "      <td>0.666464</td>\n",
       "      <td>21</td>\n",
       "      <td>0.105</td>\n",
       "    </tr>\n",
       "    <tr>\n",
       "      <th>7</th>\n",
       "      <td>92.333333</td>\n",
       "      <td>21.600000</td>\n",
       "      <td>44.600000</td>\n",
       "      <td>0.0</td>\n",
       "      <td>0.572951</td>\n",
       "      <td>15</td>\n",
       "      <td>0.075</td>\n",
       "    </tr>\n",
       "  </tbody>\n",
       "</table>\n",
       "</div>"
      ],
      "text/plain": [
       "            Annual Income (k$)  Spending Score (1-100)        Age  Gender_M  \\\n",
       "cluster_hc                                                                    \n",
       "0                    46.526316               58.552632  27.105263       0.0   \n",
       "1                    44.105263               39.657895  49.789474       0.0   \n",
       "2                    39.217391               59.652174  24.565217       1.0   \n",
       "3                    86.388889               11.666667  38.833333       1.0   \n",
       "4                    50.034483               41.344828  56.551724       1.0   \n",
       "5                    87.111111               82.666667  33.277778       1.0   \n",
       "6                    86.047619               81.666667  32.190476       0.0   \n",
       "7                    92.333333               21.600000  44.600000       0.0   \n",
       "\n",
       "              S_S_hc  freq_hc  freq_r_hc  \n",
       "cluster_hc                                \n",
       "0           0.438005       38      0.190  \n",
       "1           0.418860       38      0.190  \n",
       "2           0.526353       23      0.115  \n",
       "3           0.437881       18      0.090  \n",
       "4           0.475323       29      0.145  \n",
       "5           0.550082       18      0.090  \n",
       "6           0.666464       21      0.105  \n",
       "7           0.572951       15      0.075  "
      ]
     },
     "execution_count": 360,
     "metadata": {},
     "output_type": "execute_result"
    }
   ],
   "source": [
    "Centers_mean_hc=data1h.groupby('cluster_hc').mean()\n",
    "Centers_mean_hc['freq_hc']=data1h['cluster_hc'].value_counts()\n",
    "Centers_mean_hc['freq_r_hc']=data1h['cluster_hc'].value_counts(normalize=True)\n",
    "Centers_mean_hc"
   ]
  },
  {
   "attachments": {
    "image.png": {
     "image/png": "[encoded data removed]"
    }
   },
   "cell_type": "markdown",
   "id": "4e8acb1f",
   "metadata": {},
   "source": [
    "# DBSCAN\n",
    "![image.png](attachment:image.png)\n",
    "## Definición de clusters y evaluación"
   ]
  },
  {
   "cell_type": "code",
   "execution_count": 417,
   "id": "a1958380",
   "metadata": {
    "ExecuteTime": {
     "end_time": "2022-05-31T22:36:02.660147Z",
     "start_time": "2022-05-31T22:36:02.638182Z"
    }
   },
   "outputs": [
    {
     "data": {
      "text/plain": [
       "0.4040925347546269"
      ]
     },
     "execution_count": 417,
     "metadata": {},
     "output_type": "execute_result"
    }
   ],
   "source": [
    "#https://scikit-learn.org/stable/modules/generated/sklearn.cluster.DBSCAN.html\n",
    "#pip install hdbscan\n",
    "from sklearn.cluster import DBSCAN\n",
    "data_sd_db=data_sd.copy()\n",
    "data1_db=data1.copy()\n",
    "dbscan = DBSCAN(eps=0.75, min_samples=5).fit(data_sd_db)\n",
    "#y_dbs = dbscan.fit_predict(data_sd_db)\n",
    "y_dbs = dbscan.labels_\n",
    "data_sd_db['cluster_dbs']=y_dbs\n",
    "silhouette_score(data_sd_db, data_sd_db['cluster_dbs'])"
   ]
  },
  {
   "cell_type": "code",
   "execution_count": 414,
   "id": "ea6932a0",
   "metadata": {
    "ExecuteTime": {
     "end_time": "2022-05-31T22:34:59.001625Z",
     "start_time": "2022-05-31T22:34:58.949036Z"
    }
   },
   "outputs": [
    {
     "data": {
      "text/html": [
       "<div>\n",
       "<style scoped>\n",
       "    .dataframe tbody tr th:only-of-type {\n",
       "        vertical-align: middle;\n",
       "    }\n",
       "\n",
       "    .dataframe tbody tr th {\n",
       "        vertical-align: top;\n",
       "    }\n",
       "\n",
       "    .dataframe thead th {\n",
       "        text-align: right;\n",
       "    }\n",
       "</style>\n",
       "<table border=\"1\" class=\"dataframe\">\n",
       "  <thead>\n",
       "    <tr style=\"text-align: right;\">\n",
       "      <th></th>\n",
       "      <th>Annual Income (k$)</th>\n",
       "      <th>Spending Score (1-100)</th>\n",
       "      <th>Age</th>\n",
       "      <th>Gender_M</th>\n",
       "      <th>S_S_dbs</th>\n",
       "      <th>freq_dbs</th>\n",
       "      <th>freq_r_dbs</th>\n",
       "    </tr>\n",
       "    <tr>\n",
       "      <th>cluster_dbs</th>\n",
       "      <th></th>\n",
       "      <th></th>\n",
       "      <th></th>\n",
       "      <th></th>\n",
       "      <th></th>\n",
       "      <th></th>\n",
       "      <th></th>\n",
       "    </tr>\n",
       "  </thead>\n",
       "  <tbody>\n",
       "    <tr>\n",
       "      <th>-1</th>\n",
       "      <td>59.000000</td>\n",
       "      <td>28.923077</td>\n",
       "      <td>37.961538</td>\n",
       "      <td>0.692308</td>\n",
       "      <td>-0.017411</td>\n",
       "      <td>26</td>\n",
       "      <td>0.130</td>\n",
       "    </tr>\n",
       "    <tr>\n",
       "      <th>0</th>\n",
       "      <td>56.706522</td>\n",
       "      <td>56.717391</td>\n",
       "      <td>37.391304</td>\n",
       "      <td>0.000000</td>\n",
       "      <td>0.350240</td>\n",
       "      <td>92</td>\n",
       "      <td>0.460</td>\n",
       "    </tr>\n",
       "    <tr>\n",
       "      <th>1</th>\n",
       "      <td>24.875000</td>\n",
       "      <td>75.875000</td>\n",
       "      <td>25.875000</td>\n",
       "      <td>1.000000</td>\n",
       "      <td>0.690620</td>\n",
       "      <td>8</td>\n",
       "      <td>0.040</td>\n",
       "    </tr>\n",
       "    <tr>\n",
       "      <th>2</th>\n",
       "      <td>54.000000</td>\n",
       "      <td>46.960000</td>\n",
       "      <td>55.840000</td>\n",
       "      <td>1.000000</td>\n",
       "      <td>0.544660</td>\n",
       "      <td>25</td>\n",
       "      <td>0.125</td>\n",
       "    </tr>\n",
       "    <tr>\n",
       "      <th>3</th>\n",
       "      <td>55.545455</td>\n",
       "      <td>53.272727</td>\n",
       "      <td>22.636364</td>\n",
       "      <td>1.000000</td>\n",
       "      <td>0.677924</td>\n",
       "      <td>11</td>\n",
       "      <td>0.055</td>\n",
       "    </tr>\n",
       "    <tr>\n",
       "      <th>4</th>\n",
       "      <td>81.562500</td>\n",
       "      <td>83.187500</td>\n",
       "      <td>33.562500</td>\n",
       "      <td>1.000000</td>\n",
       "      <td>0.569660</td>\n",
       "      <td>16</td>\n",
       "      <td>0.080</td>\n",
       "    </tr>\n",
       "    <tr>\n",
       "      <th>5</th>\n",
       "      <td>83.600000</td>\n",
       "      <td>12.700000</td>\n",
       "      <td>43.300000</td>\n",
       "      <td>1.000000</td>\n",
       "      <td>0.650301</td>\n",
       "      <td>10</td>\n",
       "      <td>0.050</td>\n",
       "    </tr>\n",
       "    <tr>\n",
       "      <th>6</th>\n",
       "      <td>88.333333</td>\n",
       "      <td>20.416667</td>\n",
       "      <td>43.416667</td>\n",
       "      <td>0.000000</td>\n",
       "      <td>0.569408</td>\n",
       "      <td>12</td>\n",
       "      <td>0.060</td>\n",
       "    </tr>\n",
       "  </tbody>\n",
       "</table>\n",
       "</div>"
      ],
      "text/plain": [
       "             Annual Income (k$)  Spending Score (1-100)        Age  Gender_M  \\\n",
       "cluster_dbs                                                                    \n",
       "-1                    59.000000               28.923077  37.961538  0.692308   \n",
       " 0                    56.706522               56.717391  37.391304  0.000000   \n",
       " 1                    24.875000               75.875000  25.875000  1.000000   \n",
       " 2                    54.000000               46.960000  55.840000  1.000000   \n",
       " 3                    55.545455               53.272727  22.636364  1.000000   \n",
       " 4                    81.562500               83.187500  33.562500  1.000000   \n",
       " 5                    83.600000               12.700000  43.300000  1.000000   \n",
       " 6                    88.333333               20.416667  43.416667  0.000000   \n",
       "\n",
       "              S_S_dbs  freq_dbs  freq_r_dbs  \n",
       "cluster_dbs                                  \n",
       "-1          -0.017411        26       0.130  \n",
       " 0           0.350240        92       0.460  \n",
       " 1           0.690620         8       0.040  \n",
       " 2           0.544660        25       0.125  \n",
       " 3           0.677924        11       0.055  \n",
       " 4           0.569660        16       0.080  \n",
       " 5           0.650301        10       0.050  \n",
       " 6           0.569408        12       0.060  "
      ]
     },
     "execution_count": 414,
     "metadata": {},
     "output_type": "execute_result"
    }
   ],
   "source": [
    "data1_db['cluster_dbs']=y_dbs\n",
    "data1_db['S_S_dbs'] = silhouette_samples(data_sd_db,data_sd_db['cluster_dbs'])\n",
    "silhouette_score_mean_hc = silhouette_score(data_sd_db,data_sd_db['cluster_dbs'])\n",
    "Centers_mean_dbs=data1_db.groupby('cluster_dbs').mean()\n",
    "Centers_mean_dbs['freq_dbs']=data1_db['cluster_dbs'].value_counts()\n",
    "Centers_mean_dbs['freq_r_dbs']=data1_db['cluster_dbs'].value_counts(normalize=True)\n",
    "Centers_mean_dbs\n",
    "#Noisy samples are given the label -1."
   ]
  }
 ],
 "metadata": {
  "kernelspec": {
   "display_name": "Python 3 (ipykernel)",
   "language": "python",
   "name": "python3"
  },
  "language_info": {
   "codemirror_mode": {
    "name": "ipython",
    "version": 3
   },
   "file_extension": ".py",
   "mimetype": "text/x-python",
   "name": "python",
   "nbconvert_exporter": "python",
   "pygments_lexer": "ipython3",
   "version": "3.9.7"
  },
  "toc": {
   "base_numbering": 1,
   "nav_menu": {},
   "number_sections": false,
   "sideBar": true,
   "skip_h1_title": false,
   "title_cell": "Tabla de Contenido",
   "title_sidebar": "Contenido",
   "toc_cell": false,
   "toc_position": {
    "height": "calc(100% - 180px)",
    "left": "10px",
    "top": "150px",
    "width": "257px"
   },
   "toc_section_display": true,
   "toc_window_display": true
  }
 },
 "nbformat": 4,
 "nbformat_minor": 5
}
